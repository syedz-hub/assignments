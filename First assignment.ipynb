{
 "cells": [
  {
   "cell_type": "markdown",
   "id": "882be3f4",
   "metadata": {},
   "source": [
    "# ASSIGNMENT NO 1"
   ]
  },
  {
   "cell_type": "markdown",
   "id": "8c490e8a",
   "metadata": {},
   "source": [
    "### Statement 1"
   ]
  },
  {
   "cell_type": "code",
   "execution_count": 24,
   "id": "73be4531",
   "metadata": {
    "scrolled": false
   },
   "outputs": [
    {
     "name": "stdout",
     "output_type": "stream",
     "text": [
      "Enter your salary: 20000\n",
      "Enter your years of service: 7\n",
      "Congratulations! You are eligible for a 5% bonus.\n",
      "Net Bonus Amount: Rs 1000.0\n"
     ]
    }
   ],
   "source": [
    "salary = int(input(\"Enter your salary: \"))\n",
    "years_of_service = int(input(\"Enter your years of service: \"))\n",
    "if years_of_service > 5:\n",
    "    bonus_percentage = 5\n",
    "    bonus_amount = (bonus_percentage / 100) * salary\n",
    "    print(\"Congratulations! You are eligible for a 5% bonus.\")\n",
    "    print(f\"Net Bonus Amount: Rs {bonus_amount}\")\n",
    "else:\n",
    "    print(\"Sorry, you are not eligible for a bonus.\")"
   ]
  },
  {
   "cell_type": "markdown",
   "id": "eead1d34",
   "metadata": {},
   "source": [
    "### Statement 2"
   ]
  },
  {
   "cell_type": "code",
   "execution_count": 25,
   "id": "cf4442b8",
   "metadata": {},
   "outputs": [
    {
     "name": "stdout",
     "output_type": "stream",
     "text": [
      "Enter your age: 19\n",
      "Congrats! You are eligible for voting.\n"
     ]
    }
   ],
   "source": [
    "age = int(input(\"Enter your age: \"))\n",
    "if age > 17:\n",
    "    print(\"Congrats! You are eligible for voting.\")\n",
    "else:\n",
    "    print(\"Sorry, you are not eligible for voting.\")"
   ]
  },
  {
   "cell_type": "markdown",
   "id": "ac9730ca",
   "metadata": {},
   "source": [
    "### Statement 3"
   ]
  },
  {
   "cell_type": "code",
   "execution_count": 26,
   "id": "92d09587",
   "metadata": {},
   "outputs": [
    {
     "name": "stdout",
     "output_type": "stream",
     "text": [
      "Enter a number: 4\n",
      "4 is an even number.\n"
     ]
    }
   ],
   "source": [
    "number = int(input(\"Enter a number: \"))\n",
    "if number % 2 == 0:\n",
    "    print(f\"{number} is an even number.\")\n",
    "else:\n",
    "    print(f\"{number} is an odd number.\")"
   ]
  },
  {
   "cell_type": "markdown",
   "id": "886eec07",
   "metadata": {},
   "source": [
    "### Statement 4"
   ]
  },
  {
   "cell_type": "code",
   "execution_count": 28,
   "id": "cd1bedf4",
   "metadata": {},
   "outputs": [
    {
     "name": "stdout",
     "output_type": "stream",
     "text": [
      "Enter a number: 22\n",
      "22 is not divisible by 7.\n"
     ]
    }
   ],
   "source": [
    "number = int(input(\"Enter a number: \"))\n",
    "if number % 7 == 0:\n",
    "    print(f\"{number} is divisible by 7.\")\n",
    "else:\n",
    "    print(f\"{number} is not divisible by 7.\")\n",
    "    "
   ]
  },
  {
   "cell_type": "markdown",
   "id": "b619c62b",
   "metadata": {},
   "source": [
    "### Statement 5"
   ]
  },
  {
   "cell_type": "code",
   "execution_count": 30,
   "id": "38cbd02c",
   "metadata": {},
   "outputs": [
    {
     "name": "stdout",
     "output_type": "stream",
     "text": [
      "Enter a number: 78\n",
      "Bye\n"
     ]
    }
   ],
   "source": [
    "number = int(input(\"Enter a number: \"))\n",
    "if number % 5 == 0:\n",
    "    print(\"Hello\")\n",
    "else:\n",
    "    print(\"Bye\")"
   ]
  },
  {
   "cell_type": "markdown",
   "id": "6973a5b8",
   "metadata": {},
   "source": [
    "### Statement 6"
   ]
  },
  {
   "cell_type": "code",
   "execution_count": 32,
   "id": "726c1b51",
   "metadata": {},
   "outputs": [
    {
     "name": "stdout",
     "output_type": "stream",
     "text": [
      "Enter a number: 299\n",
      "The last digit of 299 is: 9\n"
     ]
    }
   ],
   "source": [
    "number = int(input(\"Enter a number: \"))\n",
    "last_digit = number % 10\n",
    "print(f\"The last digit of {number} is: {last_digit}\")"
   ]
  },
  {
   "cell_type": "markdown",
   "id": "8c72c889",
   "metadata": {},
   "source": [
    "### Statement 7"
   ]
  },
  {
   "cell_type": "code",
   "execution_count": 49,
   "id": "5b564231",
   "metadata": {},
   "outputs": [
    {
     "name": "stdout",
     "output_type": "stream",
     "text": [
      "Enter a number: 0\n",
      "You entered zero.\n"
     ]
    }
   ],
   "source": [
    "number = int(input(\"Enter a number: \"))\n",
    "last_digit = number % 10\n",
    "if number == 0:\n",
    "    print(\"You entered zero.\")\n",
    "else:\n",
    "    last_digit = abs(number) % 10\n",
    "    if last_digit % 3 == 0:\n",
    "        print(f\"The last digit ({last_digit}) is divisible by 3.\")\n",
    "    else:\n",
    "        print(f\"The last digit ({last_digit}) is not divisible by 3.\")"
   ]
  },
  {
   "cell_type": "markdown",
   "id": "5417ab84",
   "metadata": {},
   "source": [
    "### Statement 8"
   ]
  },
  {
   "cell_type": "code",
   "execution_count": 57,
   "id": "1c433b5d",
   "metadata": {},
   "outputs": [
    {
     "name": "stdout",
     "output_type": "stream",
     "text": [
      "Enter the length of the rectangle: 3\n",
      "Enter the breadth of the rectangle: 4\n",
      "It is a rectangle.\n"
     ]
    }
   ],
   "source": [
    "length = float(input(\"Enter the length of the rectangle: \"))\n",
    "breadth = float(input(\"Enter the breadth of the rectangle: \"))\n",
    "if length <= 0 or breadth <= 0:\n",
    "    print(\"Please enter valid dimensions greater than zero.\")\n",
    "elif length == breadth:\n",
    "    print(\"It is a square.\")\n",
    "else:\n",
    "    print(\"It is a rectangle.\")"
   ]
  },
  {
   "cell_type": "markdown",
   "id": "168eb12d",
   "metadata": {},
   "source": [
    "### Statement 9    "
   ]
  },
  {
   "cell_type": "code",
   "execution_count": 61,
   "id": "203deddc",
   "metadata": {},
   "outputs": [
    {
     "name": "stdout",
     "output_type": "stream",
     "text": [
      "Enter the first integer: 1\n",
      "Enter the second integer: 4\n",
      "The greatest number is: 4\n"
     ]
    }
   ],
   "source": [
    "num1 = int(input(\"Enter the first integer: \"))\n",
    "num2 = int(input(\"Enter the second integer: \"))\n",
    "\n",
    "greatest_number = max(num1, num2)\n",
    "\n",
    "if num1 == num2:\n",
    "    print(\"Both numbers are equal.\")\n",
    "else:\n",
    "    print(f\"The greatest number is: {greatest_number}\")\n"
   ]
  },
  {
   "cell_type": "markdown",
   "id": "f5289a65",
   "metadata": {},
   "source": [
    "### Statement 10"
   ]
  },
  {
   "cell_type": "code",
   "execution_count": 74,
   "id": "d7ec2413",
   "metadata": {},
   "outputs": [
    {
     "name": "stdout",
     "output_type": "stream",
     "text": [
      "Enter the quantity of units purchased: 12\n",
      "Congratulations! You get a 10% discount.\n",
      "Total cost after discount: Rs 1080.0\n"
     ]
    }
   ],
   "source": [
    "quantity = int(input(\"Enter the quantity of units purchased: \"))\n",
    "cost_per_unit = 100\n",
    "total_cost = quantity * cost_per_unit\n",
    "if total_cost > 1000:\n",
    "    discount = 0.1 * total_cost\n",
    "    total_cost -= discount\n",
    "    print(f\"Congratulations! You get a 10% discount.\")\n",
    "    print(f\"Total cost after discount: Rs {total_cost}\")\n",
    "else:\n",
    "    print(f\"Total cost: Rs {total_cost}\")"
   ]
  },
  {
   "cell_type": "markdown",
   "id": "6a5e0b9e",
   "metadata": {},
   "source": [
    "### Statement 11"
   ]
  },
  {
   "cell_type": "code",
   "execution_count": 84,
   "id": "6f845f5b",
   "metadata": {},
   "outputs": [
    {
     "name": "stdout",
     "output_type": "stream",
     "text": [
      "Enter the marks: 80\n",
      "Your grade is: A\n"
     ]
    }
   ],
   "source": [
    "marks = float(input(\"Enter the marks: \"))\n",
    "if marks < 25:\n",
    "    grade = \"F\"\n",
    "elif marks >= 25 and marks < 45:\n",
    "    grade = \"E\"\n",
    "elif marks >= 45 and marks < 50:\n",
    "    grade = \"D\"\n",
    "elif marks >= 50 and marks < 60:\n",
    "    grade = \"C\"\n",
    "elif marks >= 60 and marks < 80:\n",
    "    grade = \"B\"\n",
    "else:\n",
    "    grade = \"A\"\n",
    "print(f\"Your grade is: {grade}\")"
   ]
  },
  {
   "cell_type": "markdown",
   "id": "bb584497",
   "metadata": {},
   "source": [
    "### Statement 12"
   ]
  },
  {
   "cell_type": "code",
   "execution_count": 83,
   "id": "861600d5",
   "metadata": {},
   "outputs": [
    {
     "name": "stdout",
     "output_type": "stream",
     "text": [
      "Enter the number of classes held: 10\n",
      "Enter the number of classes attended: 8\n",
      "Percentage of classes attended: 80.00%\n",
      "You are allowed to sit in the exam.\n"
     ]
    }
   ],
   "source": [
    "classes_held = int(input(\"Enter the number of classes held: \"))\n",
    "classes_attended = int(input(\"Enter the number of classes attended: \"))\n",
    "attendance_percentage = (classes_attended / classes_held) * 100\n",
    "\n",
    "if attendance_percentage >= 75:\n",
    "    print(f\"Percentage of classes attended: {attendance_percentage:.2f}%\")\n",
    "    print(\"You are allowed to sit in the exam.\")\n",
    "else:\n",
    "    print(f\"Percentage of classes attended: {attendance_percentage:.2f}%\")\n",
    "    print(\"Sorry, you are not allowed to sit in the exam due to short of attendance.\")\n"
   ]
  },
  {
   "cell_type": "markdown",
   "id": "1d08a14d",
   "metadata": {},
   "source": [
    "### Statement 13"
   ]
  },
  {
   "cell_type": "code",
   "execution_count": 85,
   "id": "ea619995",
   "metadata": {},
   "outputs": [
    {
     "name": "stdout",
     "output_type": "stream",
     "text": [
      "Enter the number of classes held: 10\n",
      "Enter the number of classes attended: 8\n",
      "Do you have a medical cause? (Y/N): y\n",
      "Percentage of classes attended: 80.00%\n",
      "You are allowed to sit in the exam.\n"
     ]
    }
   ],
   "source": [
    "classes_held = int(input(\"Enter the number of classes held: \"))\n",
    "classes_attended = int(input(\"Enter the number of classes attended: \"))\n",
    "\n",
    "if classes_held <= 0:\n",
    "    print(\"Number of classes held should be a positive integer.\")\n",
    "else:\n",
    "    attendance_percentage = (classes_attended / classes_held) * 100\n",
    "    medical_cause = input(\"Do you have a medical cause? (Y/N): \")\n",
    "\n",
    "    if attendance_percentage >= 75 or medical_cause.upper() == 'Y':\n",
    "        print(f\"Percentage of classes attended: {attendance_percentage:.2f}%\")\n",
    "        print(\"You are allowed to sit in the exam.\")\n",
    "    else:\n",
    "        print(f\"Percentage of classes attended: {attendance_percentage:.2f}%\")\n",
    "        print(\"Sorry, you are not allowed to sit in the exam due to low attendance.\")\n"
   ]
  },
  {
   "cell_type": "markdown",
   "id": "6817414f",
   "metadata": {},
   "source": [
    "#### Statement 14"
   ]
  },
  {
   "cell_type": "code",
   "execution_count": 86,
   "id": "64ade6d8",
   "metadata": {},
   "outputs": [
    {
     "name": "stdout",
     "output_type": "stream",
     "text": [
      "Enter a year: 4\n",
      "4 is a leap year.\n"
     ]
    }
   ],
   "source": [
    "year = int(input(\"Enter a year: \"))\n",
    "\n",
    "if year < 0:\n",
    "    print(\"Please enter a valid positive year.\")\n",
    "else:\n",
    "    if (year % 4 == 0 and year % 100 != 0) or (year % 400 == 0):\n",
    "        print(f\"{year} is a leap year.\")\n",
    "    else:\n",
    "        print(f\"{year} is not a leap year.\")\n"
   ]
  },
  {
   "cell_type": "markdown",
   "id": "904c64de",
   "metadata": {},
   "source": [
    "#### Statement 15"
   ]
  },
  {
   "cell_type": "code",
   "execution_count": 5,
   "id": "f65925a8",
   "metadata": {},
   "outputs": [
    {
     "name": "stdout",
     "output_type": "stream",
     "text": [
      "Enter your age: 61\n",
      "Enter your gender (M or F): m\n",
      "Are you married? (Y or N): n\n",
      "ERROR\n"
     ]
    }
   ],
   "source": [
    "age = int(input(\"Enter your age: \"))\n",
    "gender = input(\"Enter your gender (M or F): \").upper()\n",
    "marital_status = input(\"Are you married? (Y or N): \").upper()\n",
    "if gender == 'F':\n",
    "    print(\"You will work in urban areas.\")\n",
    "elif gender == 'M':\n",
    "    if 20 <= age <= 40:\n",
    "        print(\"You may work anywhere.\")\n",
    "    elif 40 <= age <= 60:\n",
    "        print(\"You will work in urban areas only.\")\n",
    "    else:\n",
    "        print(\"ERROR\")\n",
    "else:\n",
    "    print(\"ERROR\")\n"
   ]
  },
  {
   "cell_type": "markdown",
   "id": "7b356754",
   "metadata": {},
   "source": [
    "#### Statement 16"
   ]
  },
  {
   "cell_type": "code",
   "execution_count": 10,
   "id": "a4812000",
   "metadata": {},
   "outputs": [
    {
     "name": "stdout",
     "output_type": "stream",
     "text": [
      "Enter the number of units: 400\n",
      "Total bill amount is Rs.2000\n"
     ]
    }
   ],
   "source": [
    "units = int(input(\"Enter the number of units: \"))\n",
    "if units <= 100:\n",
    "    bill_amount = 0\n",
    "elif units <= 300:\n",
    "    bill_amount = (units - 100) * 5\n",
    "elif units > 300:\n",
    "    bill_amount = 200 * 5 + (units - 300) * 10\n",
    "    print(f\"Total bill amount is Rs.{bill_amount}\")"
   ]
  },
  {
   "cell_type": "markdown",
   "id": "fcb2a6b6",
   "metadata": {},
   "source": [
    "#### Statement 17"
   ]
  },
  {
   "cell_type": "code",
   "execution_count": 11,
   "id": "7d4fca29",
   "metadata": {},
   "outputs": [
    {
     "name": "stdout",
     "output_type": "stream",
     "text": [
      "Enter the age of person 1: 20\n",
      "Enter the age of person 2: 10\n",
      "Enter the age of person 3: 30\n",
      "The oldest person is 30 years old.\n",
      "The youngest person is 10 years old.\n"
     ]
    }
   ],
   "source": [
    "age1 = int(input(\"Enter the age of person 1: \"))\n",
    "age2 = int(input(\"Enter the age of person 2: \"))\n",
    "age3 = int(input(\"Enter the age of person 3: \"))\n",
    "oldest = max(age1, age2, age3)\n",
    "youngest = min(age1, age2, age3)\n",
    "print(f\"The oldest person is {oldest} years old.\")\n",
    "print(f\"The youngest person is {youngest} years old.\")"
   ]
  },
  {
   "cell_type": "code",
   "execution_count": null,
   "id": "23a72399",
   "metadata": {},
   "outputs": [],
   "source": []
  }
 ],
 "metadata": {
  "kernelspec": {
   "display_name": "Python 3 (ipykernel)",
   "language": "python",
   "name": "python3"
  },
  "language_info": {
   "codemirror_mode": {
    "name": "ipython",
    "version": 3
   },
   "file_extension": ".py",
   "mimetype": "text/x-python",
   "name": "python",
   "nbconvert_exporter": "python",
   "pygments_lexer": "ipython3",
   "version": "3.11.5"
  }
 },
 "nbformat": 4,
 "nbformat_minor": 5
}
