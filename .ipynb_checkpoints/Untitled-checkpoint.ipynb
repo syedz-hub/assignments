{
 "cells": [
  {
   "cell_type": "markdown",
   "id": "48c544a8",
   "metadata": {},
   "source": [
    "# ASSIGNMENT NO 1"
   ]
  },
  {
   "cell_type": "markdown",
   "id": "8c490e8a",
   "metadata": {},
   "source": [
    "### Statement 1"
   ]
  },
  {
   "cell_type": "code",
   "execution_count": 24,
   "id": "73be4531",
   "metadata": {
    "scrolled": false
   },
   "outputs": [
    {
     "name": "stdout",
     "output_type": "stream",
     "text": [
      "Enter your salary: 20000\n",
      "Enter your years of service: 7\n",
      "Congratulations! You are eligible for a 5% bonus.\n",
      "Net Bonus Amount: Rs 1000.0\n"
     ]
    }
   ],
   "source": [
    "salary = int(input(\"Enter your salary: \"))\n",
    "years_of_service = int(input(\"Enter your years of service: \"))\n",
    "if years_of_service > 5:\n",
    "    bonus_percentage = 5\n",
    "    bonus_amount = (bonus_percentage / 100) * salary\n",
    "    print(\"Congratulations! You are eligible for a 5% bonus.\")\n",
    "    print(f\"Net Bonus Amount: Rs {bonus_amount}\")\n",
    "else:\n",
    "    print(\"Sorry, you are not eligible for a bonus.\")"
   ]
  },
  {
   "cell_type": "markdown",
   "id": "eead1d34",
   "metadata": {},
   "source": [
    "### Statement 2"
   ]
  },
  {
   "cell_type": "code",
   "execution_count": 25,
   "id": "cf4442b8",
   "metadata": {},
   "outputs": [
    {
     "name": "stdout",
     "output_type": "stream",
     "text": [
      "Enter your age: 19\n",
      "Congrats! You are eligible for voting.\n"
     ]
    }
   ],
   "source": [
    "age = int(input(\"Enter your age: \"))\n",
    "if age > 17:\n",
    "    print(\"Congrats! You are eligible for voting.\")\n",
    "else:\n",
    "    print(\"Sorry, you are not eligible for voting.\")"
   ]
  },
  {
   "cell_type": "markdown",
   "id": "ac9730ca",
   "metadata": {},
   "source": [
    "### Statement 3"
   ]
  },
  {
   "cell_type": "code",
   "execution_count": 26,
   "id": "92d09587",
   "metadata": {},
   "outputs": [
    {
     "name": "stdout",
     "output_type": "stream",
     "text": [
      "Enter a number: 4\n",
      "4 is an even number.\n"
     ]
    }
   ],
   "source": [
    "number = int(input(\"Enter a number: \"))\n",
    "if number % 2 == 0:\n",
    "    print(f\"{number} is an even number.\")\n",
    "else:\n",
    "    print(f\"{number} is an odd number.\")"
   ]
  },
  {
   "cell_type": "markdown",
   "id": "886eec07",
   "metadata": {},
   "source": [
    "### Statement 4"
   ]
  },
  {
   "cell_type": "code",
   "execution_count": 28,
   "id": "cd1bedf4",
   "metadata": {},
   "outputs": [
    {
     "name": "stdout",
     "output_type": "stream",
     "text": [
      "Enter a number: 22\n",
      "22 is not divisible by 7.\n"
     ]
    }
   ],
   "source": [
    "number = int(input(\"Enter a number: \"))\n",
    "if number % 7 == 0:\n",
    "    print(f\"{number} is divisible by 7.\")\n",
    "else:\n",
    "    print(f\"{number} is not divisible by 7.\")\n",
    "    "
   ]
  },
  {
   "cell_type": "markdown",
   "id": "cb1828f8",
   "metadata": {},
   "source": [
    "### Statement 5"
   ]
  },
  {
   "cell_type": "code",
   "execution_count": 30,
   "id": "53e6aaf0",
   "metadata": {},
   "outputs": [
    {
     "name": "stdout",
     "output_type": "stream",
     "text": [
      "Enter a number: 78\n",
      "Bye\n"
     ]
    }
   ],
   "source": [
    "number = int(input(\"Enter a number: \"))\n",
    "if number % 5 == 0:\n",
    "    print(\"Hello\")\n",
    "else:\n",
    "    print(\"Bye\")"
   ]
  },
  {
   "cell_type": "markdown",
   "id": "103b8c5c",
   "metadata": {},
   "source": [
    "### Statement 6"
   ]
  },
  {
   "cell_type": "code",
   "execution_count": 32,
   "id": "f72759c1",
   "metadata": {},
   "outputs": [
    {
     "name": "stdout",
     "output_type": "stream",
     "text": [
      "Enter a number: 299\n",
      "The last digit of 299 is: 9\n"
     ]
    }
   ],
   "source": [
    "number = int(input(\"Enter a number: \"))\n",
    "last_digit = number % 10\n",
    "print(f\"The last digit of {number} is: {last_digit}\")"
   ]
  },
  {
   "cell_type": "markdown",
   "id": "2cc54b4b",
   "metadata": {},
   "source": [
    "### Statement 7"
   ]
  },
  {
   "cell_type": "code",
   "execution_count": 49,
   "id": "cd90374f",
   "metadata": {},
   "outputs": [
    {
     "name": "stdout",
     "output_type": "stream",
     "text": [
      "Enter a number: 0\n",
      "You entered zero.\n"
     ]
    }
   ],
   "source": [
    "number = int(input(\"Enter a number: \"))\n",
    "last_digit = number % 10\n",
    "if number == 0:\n",
    "    print(\"You entered zero.\")\n",
    "else:\n",
    "    last_digit = abs(number) % 10\n",
    "    if last_digit % 3 == 0:\n",
    "        print(f\"The last digit ({last_digit}) is divisible by 3.\")\n",
    "    else:\n",
    "        print(f\"The last digit ({last_digit}) is not divisible by 3.\")"
   ]
  },
  {
   "cell_type": "markdown",
   "id": "d6057749",
   "metadata": {},
   "source": [
    "### Statement 8"
   ]
  },
  {
   "cell_type": "code",
   "execution_count": 57,
   "id": "538c132d",
   "metadata": {},
   "outputs": [
    {
     "name": "stdout",
     "output_type": "stream",
     "text": [
      "Enter the length of the rectangle: 3\n",
      "Enter the breadth of the rectangle: 4\n",
      "It is a rectangle.\n"
     ]
    }
   ],
   "source": [
    "length = float(input(\"Enter the length of the rectangle: \"))\n",
    "breadth = float(input(\"Enter the breadth of the rectangle: \"))\n",
    "if length <= 0 or breadth <= 0:\n",
    "    print(\"Please enter valid dimensions greater than zero.\")\n",
    "elif length == breadth:\n",
    "    print(\"It is a square.\")\n",
    "else:\n",
    "    print(\"It is a rectangle.\")"
   ]
  },
  {
   "cell_type": "markdown",
   "id": "889a6347",
   "metadata": {},
   "source": [
    "### Statement 9    "
   ]
  },
  {
   "cell_type": "code",
   "execution_count": 61,
   "id": "ac7a9bed",
   "metadata": {},
   "outputs": [
    {
     "name": "stdout",
     "output_type": "stream",
     "text": [
      "Enter the first integer: 1\n",
      "Enter the second integer: 4\n",
      "The greatest number is: 4\n"
     ]
    }
   ],
   "source": [
    "num1 = int(input(\"Enter the first integer: \"))\n",
    "num2 = int(input(\"Enter the second integer: \"))\n",
    "\n",
    "greatest_number = max(num1, num2)\n",
    "\n",
    "if num1 == num2:\n",
    "    print(\"Both numbers are equal.\")\n",
    "else:\n",
    "    print(f\"The greatest number is: {greatest_number}\")\n"
   ]
  },
  {
   "cell_type": "markdown",
   "id": "691ace32",
   "metadata": {},
   "source": [
    "### Statement 10"
   ]
  },
  {
   "cell_type": "code",
   "execution_count": 74,
   "id": "6dae2a0e",
   "metadata": {},
   "outputs": [
    {
     "name": "stdout",
     "output_type": "stream",
     "text": [
      "Enter the quantity of units purchased: 12\n",
      "Congratulations! You get a 10% discount.\n",
      "Total cost after discount: Rs 1080.0\n"
     ]
    }
   ],
   "source": [
    "quantity = int(input(\"Enter the quantity of units purchased: \"))\n",
    "cost_per_unit = 100\n",
    "total_cost = quantity * cost_per_unit\n",
    "if total_cost > 1000:\n",
    "    discount = 0.1 * total_cost\n",
    "    total_cost -= discount\n",
    "    print(f\"Congratulations! You get a 10% discount.\")\n",
    "    print(f\"Total cost after discount: Rs {total_cost}\")\n",
    "else:\n",
    "    print(f\"Total cost: Rs {total_cost}\")"
   ]
  },
  {
   "cell_type": "markdown",
   "id": "6a936e60",
   "metadata": {},
   "source": [
    "### Statement 11"
   ]
  },
  {
   "cell_type": "code",
   "execution_count": 80,
   "id": "f34995a0",
   "metadata": {},
   "outputs": [
    {
     "ename": "KeyboardInterrupt",
     "evalue": "Interrupted by user",
     "output_type": "error",
     "traceback": [
      "\u001b[1;31m---------------------------------------------------------------------------\u001b[0m",
      "\u001b[1;31mKeyboardInterrupt\u001b[0m                         Traceback (most recent call last)",
      "Cell \u001b[1;32mIn[80], line 1\u001b[0m\n\u001b[1;32m----> 1\u001b[0m marks \u001b[38;5;241m=\u001b[39m \u001b[38;5;28mfloat\u001b[39m(\u001b[38;5;28minput\u001b[39m(\u001b[38;5;124m\"\u001b[39m\u001b[38;5;124mEnter the marks: \u001b[39m\u001b[38;5;124m\"\u001b[39m))\n\u001b[0;32m      2\u001b[0m \u001b[38;5;28;01mif\u001b[39;00m marks \u001b[38;5;241m<\u001b[39m \u001b[38;5;241m25\u001b[39m:\n\u001b[0;32m      3\u001b[0m     grade \u001b[38;5;241m=\u001b[39m \u001b[38;5;124m\"\u001b[39m\u001b[38;5;124mF\u001b[39m\u001b[38;5;124m\"\u001b[39m\n",
      "File \u001b[1;32m~\\anaconda3\\Lib\\site-packages\\ipykernel\\kernelbase.py:1202\u001b[0m, in \u001b[0;36mKernel.raw_input\u001b[1;34m(self, prompt)\u001b[0m\n\u001b[0;32m   1200\u001b[0m     msg \u001b[38;5;241m=\u001b[39m \u001b[38;5;124m\"\u001b[39m\u001b[38;5;124mraw_input was called, but this frontend does not support input requests.\u001b[39m\u001b[38;5;124m\"\u001b[39m\n\u001b[0;32m   1201\u001b[0m     \u001b[38;5;28;01mraise\u001b[39;00m StdinNotImplementedError(msg)\n\u001b[1;32m-> 1202\u001b[0m \u001b[38;5;28;01mreturn\u001b[39;00m \u001b[38;5;28mself\u001b[39m\u001b[38;5;241m.\u001b[39m_input_request(\n\u001b[0;32m   1203\u001b[0m     \u001b[38;5;28mstr\u001b[39m(prompt),\n\u001b[0;32m   1204\u001b[0m     \u001b[38;5;28mself\u001b[39m\u001b[38;5;241m.\u001b[39m_parent_ident[\u001b[38;5;124m\"\u001b[39m\u001b[38;5;124mshell\u001b[39m\u001b[38;5;124m\"\u001b[39m],\n\u001b[0;32m   1205\u001b[0m     \u001b[38;5;28mself\u001b[39m\u001b[38;5;241m.\u001b[39mget_parent(\u001b[38;5;124m\"\u001b[39m\u001b[38;5;124mshell\u001b[39m\u001b[38;5;124m\"\u001b[39m),\n\u001b[0;32m   1206\u001b[0m     password\u001b[38;5;241m=\u001b[39m\u001b[38;5;28;01mFalse\u001b[39;00m,\n\u001b[0;32m   1207\u001b[0m )\n",
      "File \u001b[1;32m~\\anaconda3\\Lib\\site-packages\\ipykernel\\kernelbase.py:1245\u001b[0m, in \u001b[0;36mKernel._input_request\u001b[1;34m(self, prompt, ident, parent, password)\u001b[0m\n\u001b[0;32m   1242\u001b[0m \u001b[38;5;28;01mexcept\u001b[39;00m \u001b[38;5;167;01mKeyboardInterrupt\u001b[39;00m:\n\u001b[0;32m   1243\u001b[0m     \u001b[38;5;66;03m# re-raise KeyboardInterrupt, to truncate traceback\u001b[39;00m\n\u001b[0;32m   1244\u001b[0m     msg \u001b[38;5;241m=\u001b[39m \u001b[38;5;124m\"\u001b[39m\u001b[38;5;124mInterrupted by user\u001b[39m\u001b[38;5;124m\"\u001b[39m\n\u001b[1;32m-> 1245\u001b[0m     \u001b[38;5;28;01mraise\u001b[39;00m \u001b[38;5;167;01mKeyboardInterrupt\u001b[39;00m(msg) \u001b[38;5;28;01mfrom\u001b[39;00m \u001b[38;5;28;01mNone\u001b[39;00m\n\u001b[0;32m   1246\u001b[0m \u001b[38;5;28;01mexcept\u001b[39;00m \u001b[38;5;167;01mException\u001b[39;00m:\n\u001b[0;32m   1247\u001b[0m     \u001b[38;5;28mself\u001b[39m\u001b[38;5;241m.\u001b[39mlog\u001b[38;5;241m.\u001b[39mwarning(\u001b[38;5;124m\"\u001b[39m\u001b[38;5;124mInvalid Message:\u001b[39m\u001b[38;5;124m\"\u001b[39m, exc_info\u001b[38;5;241m=\u001b[39m\u001b[38;5;28;01mTrue\u001b[39;00m)\n",
      "\u001b[1;31mKeyboardInterrupt\u001b[0m: Interrupted by user"
     ]
    }
   ],
   "source": [
    "marks = float(input(\"Enter the marks: \"))\n",
    "if marks < 25:\n",
    "    grade = \"F\"\n",
    "elif marks >= 25 and marks < 45:\n",
    "    grade = \"E\"\n",
    "elif marks >= 45 and marks < 50:\n",
    "    grade = \"D\"\n",
    "elif marks >= 50 and marks < 60:\n",
    "    grade = \"C\"\n",
    "elif marks >= 60 and marks < 80:\n",
    "    grade = \"B\"\n",
    "else:\n",
    "    grade = \"A\"\n",
    "print(f\"Your grade is: {grade}\")"
   ]
  },
  {
   "cell_type": "markdown",
   "id": "85a9fcb4",
   "metadata": {},
   "source": [
    "### Statement 12"
   ]
  },
  {
   "cell_type": "code",
   "execution_count": 83,
   "id": "17afb5b7",
   "metadata": {},
   "outputs": [
    {
     "name": "stdout",
     "output_type": "stream",
     "text": [
      "Enter the number of classes held: 10\n",
      "Enter the number of classes attended: 8\n",
      "Percentage of classes attended: 80.00%\n",
      "You are allowed to sit in the exam.\n"
     ]
    }
   ],
   "source": [
    "classes_held = int(input(\"Enter the number of classes held: \"))\n",
    "classes_attended = int(input(\"Enter the number of classes attended: \"))\n",
    "attendance_percentage = (classes_attended / classes_held) * 100\n",
    "\n",
    "if attendance_percentage >= 75:\n",
    "    print(f\"Percentage of classes attended: {attendance_percentage:.2f}%\")\n",
    "    print(\"You are allowed to sit in the exam.\")\n",
    "else:\n",
    "    print(f\"Percentage of classes attended: {attendance_percentage:.2f}%\")\n",
    "    print(\"Sorry, you are not allowed to sit in the exam due to short of attendance.\")\n"
   ]
  },
  {
   "cell_type": "code",
   "execution_count": null,
   "id": "b4d976b9",
   "metadata": {},
   "outputs": [],
   "source": []
  },
  {
   "cell_type": "code",
   "execution_count": null,
   "id": "32230cb2",
   "metadata": {},
   "outputs": [],
   "source": []
  }
 ],
 "metadata": {
  "kernelspec": {
   "display_name": "Python 3 (ipykernel)",
   "language": "python",
   "name": "python3"
  },
  "language_info": {
   "codemirror_mode": {
    "name": "ipython",
    "version": 3
   },
   "file_extension": ".py",
   "mimetype": "text/x-python",
   "name": "python",
   "nbconvert_exporter": "python",
   "pygments_lexer": "ipython3",
   "version": "3.11.5"
  }
 },
 "nbformat": 4,
 "nbformat_minor": 5
}
